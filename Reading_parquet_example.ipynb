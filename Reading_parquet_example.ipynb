{
 "cells": [
  {
   "cell_type": "markdown",
   "metadata": {},
   "source": [
    "## Install Dependencies\n",
    "\n",
    "Reading Parquet files requires PyArrow"
   ]
  },
  {
   "cell_type": "code",
   "execution_count": 1,
   "metadata": {},
   "outputs": [
    {
     "name": "stdout",
     "output_type": "stream",
     "text": [
      "Fetching package metadata ...............\n",
      "Solving package specifications: .\n",
      "\n",
      "Package plan for installation in environment /Users/krisz/.pyenv/versions/miniconda3-latest/envs/ml3:\n",
      "\n",
      "The following packages will be UPDATED:\n",
      "\n",
      "    pandas: 0.21.0-py36_0 conda-forge --> 0.22.0-py36_0 conda-forge\n",
      "\n",
      "pandas-0.22.0- 100% |################################| Time: 0:00:04   2.30 MB/s\n"
     ]
    }
   ],
   "source": [
    "!conda install -y pandas pyarrow"
   ]
  },
  {
   "cell_type": "markdown",
   "metadata": {},
   "source": [
    "## Download Files\n",
    "\n",
    "Currently there two formats available: Parquet and JSON"
   ]
  },
  {
   "cell_type": "code",
   "execution_count": 11,
   "metadata": {},
   "outputs": [
    {
     "name": "stdout",
     "output_type": "stream",
     "text": [
      "--2018-01-15 11:09:00--  https://s3.amazonaws.com/gitential-com-datasets/libgit2-libgit2/commits.parquet\n",
      "Resolving s3.amazonaws.com (s3.amazonaws.com)... 52.216.100.149\n",
      "Connecting to s3.amazonaws.com (s3.amazonaws.com)|52.216.100.149|:443... connected.\n",
      "HTTP request sent, awaiting response... 200 OK\n",
      "Length: 1483345 (1.4M) [binary/octet-stream]\n",
      "Saving to: ‘commits.parquet’\n",
      "\n",
      "commits.parquet     100%[===================>]   1.41M   616KB/s    in 2.4s    \n",
      "\n",
      "2018-01-15 11:09:03 (616 KB/s) - ‘commits.parquet’ saved [1483345/1483345]\n",
      "\n",
      "--2018-01-15 11:09:04--  https://s3.amazonaws.com/gitential-com-datasets/libgit2-libgit2/commits.json.gz\n",
      "Resolving s3.amazonaws.com (s3.amazonaws.com)... 52.216.100.149\n",
      "Connecting to s3.amazonaws.com (s3.amazonaws.com)|52.216.100.149|:443... connected.\n",
      "HTTP request sent, awaiting response... 200 OK\n",
      "Length: 1642853 (1.6M) [application/json]\n",
      "Saving to: ‘commits.json.gz’\n",
      "\n",
      "commits.json.gz     100%[===================>]   1.57M   903KB/s    in 1.8s    \n",
      "\n",
      "2018-01-15 11:09:06 (903 KB/s) - ‘commits.json.gz’ saved [1642853/1642853]\n",
      "\n"
     ]
    }
   ],
   "source": [
    "!wget https://s3.amazonaws.com/gitential-com-datasets/libgit2-libgit2/commits.parquet\n",
    "!wget https://s3.amazonaws.com/gitential-com-datasets/libgit2-libgit2/commits.json.gz"
   ]
  },
  {
   "cell_type": "markdown",
   "metadata": {},
   "source": [
    "## Reading Parquet file"
   ]
  },
  {
   "cell_type": "code",
   "execution_count": 5,
   "metadata": {},
   "outputs": [],
   "source": [
    "import pandas as pd\n",
    "\n",
    "commits = pd.read_parquet('./commits.parquet')"
   ]
  },
  {
   "cell_type": "code",
   "execution_count": 15,
   "metadata": {},
   "outputs": [
    {
     "data": {
      "text/html": [
       "<div>\n",
       "<style scoped>\n",
       "    .dataframe tbody tr th:only-of-type {\n",
       "        vertical-align: middle;\n",
       "    }\n",
       "\n",
       "    .dataframe tbody tr th {\n",
       "        vertical-align: top;\n",
       "    }\n",
       "\n",
       "    .dataframe thead th {\n",
       "        text-align: right;\n",
       "    }\n",
       "</style>\n",
       "<table border=\"1\" class=\"dataframe\">\n",
       "  <thead>\n",
       "    <tr style=\"text-align: right;\">\n",
       "      <th></th>\n",
       "      <th>id</th>\n",
       "      <th>ismerge</th>\n",
       "      <th>ndiffs</th>\n",
       "      <th>author_time</th>\n",
       "      <th>committer_time</th>\n",
       "      <th>message</th>\n",
       "    </tr>\n",
       "  </thead>\n",
       "  <tbody>\n",
       "    <tr>\n",
       "      <th>0</th>\n",
       "      <td>c15648cbd059b92c177586ab1701a167222c7681</td>\n",
       "      <td>False</td>\n",
       "      <td>1</td>\n",
       "      <td>2008-10-31 09:57:29</td>\n",
       "      <td>2008-10-31 09:57:29</td>\n",
       "      <td>Initial draft of libgit2\\n\\nSigned-off-by: Sha...</td>\n",
       "    </tr>\n",
       "    <tr>\n",
       "      <th>1</th>\n",
       "      <td>44181c23ea6c39d51a4b481dc59ecf2cc3967e76</td>\n",
       "      <td>False</td>\n",
       "      <td>1</td>\n",
       "      <td>2008-10-31 10:42:32</td>\n",
       "      <td>2008-10-31 10:42:32</td>\n",
       "      <td>Mark git_oid parameters const when they should...</td>\n",
       "    </tr>\n",
       "    <tr>\n",
       "      <th>2</th>\n",
       "      <td>46d8b885bd65158e8cb53266ba4b627b5991bce8</td>\n",
       "      <td>False</td>\n",
       "      <td>1</td>\n",
       "      <td>2008-10-31 10:43:20</td>\n",
       "      <td>2008-10-31 11:05:02</td>\n",
       "      <td>Rename git_odb_sread to just git_odb_read\\n\\nM...</td>\n",
       "    </tr>\n",
       "    <tr>\n",
       "      <th>3</th>\n",
       "      <td>171aaf21d9f7582270c390962f61d3d2613c4d59</td>\n",
       "      <td>False</td>\n",
       "      <td>1</td>\n",
       "      <td>2008-10-31 10:55:12</td>\n",
       "      <td>2008-10-31 11:05:05</td>\n",
       "      <td>Hide GIT_{BEGIN,END}_DECL from doxygen as its ...</td>\n",
       "    </tr>\n",
       "    <tr>\n",
       "      <th>4</th>\n",
       "      <td>b51eb250ed0cbda59d3108d04569fab9413909fd</td>\n",
       "      <td>False</td>\n",
       "      <td>1</td>\n",
       "      <td>2008-10-31 10:55:58</td>\n",
       "      <td>2008-10-31 11:05:05</td>\n",
       "      <td>Cleanup git_odb documentation formatting\\n\\nSi...</td>\n",
       "    </tr>\n",
       "  </tbody>\n",
       "</table>\n",
       "</div>"
      ],
      "text/plain": [
       "                                         id  ismerge  ndiffs  \\\n",
       "0  c15648cbd059b92c177586ab1701a167222c7681    False       1   \n",
       "1  44181c23ea6c39d51a4b481dc59ecf2cc3967e76    False       1   \n",
       "2  46d8b885bd65158e8cb53266ba4b627b5991bce8    False       1   \n",
       "3  171aaf21d9f7582270c390962f61d3d2613c4d59    False       1   \n",
       "4  b51eb250ed0cbda59d3108d04569fab9413909fd    False       1   \n",
       "\n",
       "          author_time      committer_time  \\\n",
       "0 2008-10-31 09:57:29 2008-10-31 09:57:29   \n",
       "1 2008-10-31 10:42:32 2008-10-31 10:42:32   \n",
       "2 2008-10-31 10:43:20 2008-10-31 11:05:02   \n",
       "3 2008-10-31 10:55:12 2008-10-31 11:05:05   \n",
       "4 2008-10-31 10:55:58 2008-10-31 11:05:05   \n",
       "\n",
       "                                             message  \n",
       "0  Initial draft of libgit2\\n\\nSigned-off-by: Sha...  \n",
       "1  Mark git_oid parameters const when they should...  \n",
       "2  Rename git_odb_sread to just git_odb_read\\n\\nM...  \n",
       "3  Hide GIT_{BEGIN,END}_DECL from doxygen as its ...  \n",
       "4  Cleanup git_odb documentation formatting\\n\\nSi...  "
      ]
     },
     "execution_count": 15,
     "metadata": {},
     "output_type": "execute_result"
    }
   ],
   "source": [
    "commits[['id', 'ismerge', 'ndiffs', 'author_time', 'committer_time', 'message']].head()"
   ]
  },
  {
   "cell_type": "markdown",
   "metadata": {},
   "source": [
    "# Reading JSON.gz file"
   ]
  },
  {
   "cell_type": "code",
   "execution_count": 13,
   "metadata": {},
   "outputs": [],
   "source": [
    "import pandas as pd\n",
    "\n",
    "commits = pd.read_json('./commits.json.gz', compression='infer')"
   ]
  },
  {
   "cell_type": "code",
   "execution_count": 16,
   "metadata": {},
   "outputs": [
    {
     "data": {
      "text/html": [
       "<div>\n",
       "<style scoped>\n",
       "    .dataframe tbody tr th:only-of-type {\n",
       "        vertical-align: middle;\n",
       "    }\n",
       "\n",
       "    .dataframe tbody tr th {\n",
       "        vertical-align: top;\n",
       "    }\n",
       "\n",
       "    .dataframe thead th {\n",
       "        text-align: right;\n",
       "    }\n",
       "</style>\n",
       "<table border=\"1\" class=\"dataframe\">\n",
       "  <thead>\n",
       "    <tr style=\"text-align: right;\">\n",
       "      <th></th>\n",
       "      <th>id</th>\n",
       "      <th>ismerge</th>\n",
       "      <th>ndiffs</th>\n",
       "      <th>author_time</th>\n",
       "      <th>committer_time</th>\n",
       "      <th>message</th>\n",
       "    </tr>\n",
       "  </thead>\n",
       "  <tbody>\n",
       "    <tr>\n",
       "      <th>0</th>\n",
       "      <td>c15648cbd059b92c177586ab1701a167222c7681</td>\n",
       "      <td>False</td>\n",
       "      <td>1</td>\n",
       "      <td>2008-10-31 09:57:29</td>\n",
       "      <td>2008-10-31 09:57:29</td>\n",
       "      <td>Initial draft of libgit2\\n\\nSigned-off-by: Sha...</td>\n",
       "    </tr>\n",
       "    <tr>\n",
       "      <th>1</th>\n",
       "      <td>44181c23ea6c39d51a4b481dc59ecf2cc3967e76</td>\n",
       "      <td>False</td>\n",
       "      <td>1</td>\n",
       "      <td>2008-10-31 10:42:32</td>\n",
       "      <td>2008-10-31 10:42:32</td>\n",
       "      <td>Mark git_oid parameters const when they should...</td>\n",
       "    </tr>\n",
       "    <tr>\n",
       "      <th>2</th>\n",
       "      <td>46d8b885bd65158e8cb53266ba4b627b5991bce8</td>\n",
       "      <td>False</td>\n",
       "      <td>1</td>\n",
       "      <td>2008-10-31 10:43:20</td>\n",
       "      <td>2008-10-31 11:05:02</td>\n",
       "      <td>Rename git_odb_sread to just git_odb_read\\n\\nM...</td>\n",
       "    </tr>\n",
       "    <tr>\n",
       "      <th>3</th>\n",
       "      <td>171aaf21d9f7582270c390962f61d3d2613c4d59</td>\n",
       "      <td>False</td>\n",
       "      <td>1</td>\n",
       "      <td>2008-10-31 10:55:12</td>\n",
       "      <td>2008-10-31 11:05:05</td>\n",
       "      <td>Hide GIT_{BEGIN,END}_DECL from doxygen as its ...</td>\n",
       "    </tr>\n",
       "    <tr>\n",
       "      <th>4</th>\n",
       "      <td>b51eb250ed0cbda59d3108d04569fab9413909fd</td>\n",
       "      <td>False</td>\n",
       "      <td>1</td>\n",
       "      <td>2008-10-31 10:55:58</td>\n",
       "      <td>2008-10-31 11:05:05</td>\n",
       "      <td>Cleanup git_odb documentation formatting\\n\\nSi...</td>\n",
       "    </tr>\n",
       "  </tbody>\n",
       "</table>\n",
       "</div>"
      ],
      "text/plain": [
       "                                         id  ismerge  ndiffs  \\\n",
       "0  c15648cbd059b92c177586ab1701a167222c7681    False       1   \n",
       "1  44181c23ea6c39d51a4b481dc59ecf2cc3967e76    False       1   \n",
       "2  46d8b885bd65158e8cb53266ba4b627b5991bce8    False       1   \n",
       "3  171aaf21d9f7582270c390962f61d3d2613c4d59    False       1   \n",
       "4  b51eb250ed0cbda59d3108d04569fab9413909fd    False       1   \n",
       "\n",
       "          author_time      committer_time  \\\n",
       "0 2008-10-31 09:57:29 2008-10-31 09:57:29   \n",
       "1 2008-10-31 10:42:32 2008-10-31 10:42:32   \n",
       "2 2008-10-31 10:43:20 2008-10-31 11:05:02   \n",
       "3 2008-10-31 10:55:12 2008-10-31 11:05:05   \n",
       "4 2008-10-31 10:55:58 2008-10-31 11:05:05   \n",
       "\n",
       "                                             message  \n",
       "0  Initial draft of libgit2\\n\\nSigned-off-by: Sha...  \n",
       "1  Mark git_oid parameters const when they should...  \n",
       "2  Rename git_odb_sread to just git_odb_read\\n\\nM...  \n",
       "3  Hide GIT_{BEGIN,END}_DECL from doxygen as its ...  \n",
       "4  Cleanup git_odb documentation formatting\\n\\nSi...  "
      ]
     },
     "execution_count": 16,
     "metadata": {},
     "output_type": "execute_result"
    }
   ],
   "source": [
    "commits[['id', 'ismerge', 'ndiffs', 'author_time', 'committer_time', 'message']].head()"
   ]
  },
  {
   "cell_type": "code",
   "execution_count": null,
   "metadata": {},
   "outputs": [],
   "source": []
  }
 ],
 "metadata": {
  "kernelspec": {
   "display_name": "Python 3",
   "language": "python",
   "name": "python3"
  },
  "language_info": {
   "codemirror_mode": {
    "name": "ipython",
    "version": 3
   },
   "file_extension": ".py",
   "mimetype": "text/x-python",
   "name": "python",
   "nbconvert_exporter": "python",
   "pygments_lexer": "ipython3",
   "version": "3.6.3"
  }
 },
 "nbformat": 4,
 "nbformat_minor": 2
}
